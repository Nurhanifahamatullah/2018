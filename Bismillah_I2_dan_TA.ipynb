{
  "cells": [
    {
      "cell_type": "markdown",
      "metadata": {
        "id": "view-in-github",
        "colab_type": "text"
      },
      "source": [
        "<a href=\"https://colab.research.google.com/github/Nurhanifahamatullah/2018/blob/master/Bismillah_I2_dan_TA.ipynb\" target=\"_parent\"><img src=\"https://colab.research.google.com/assets/colab-badge.svg\" alt=\"Open In Colab\"/></a>"
      ]
    },
    {
      "cell_type": "markdown",
      "metadata": {
        "id": "YMey9fLySTfQ"
      },
      "source": [
        "##CLUSTERING ULASAN PENGGUNA APLIKASI POSPAY MENGGUNAKAN METODE LDA SIMILARITY "
      ]
    },
    {
      "cell_type": "markdown",
      "metadata": {
        "id": "pZ4JR91vSmvG"
      },
      "source": [
        "#1. Scrapping Data"
      ]
    },
    {
      "cell_type": "code",
      "execution_count": 1,
      "metadata": {
        "colab": {
          "base_uri": "https://localhost:8080/"
        },
        "id": "Hx16DmmbSu6c",
        "outputId": "55cadb3f-d141-4e64-9f23-3ef907d8f1c5"
      },
      "outputs": [
        {
          "output_type": "stream",
          "name": "stdout",
          "text": [
            "Looking in indexes: https://pypi.org/simple, https://us-python.pkg.dev/colab-wheels/public/simple/\n",
            "Collecting google-play-scraper\n",
            "  Downloading google-play-scraper-1.1.0.tar.gz (52 kB)\n",
            "\u001b[K     |████████████████████████████████| 52 kB 1.1 MB/s \n",
            "\u001b[?25hBuilding wheels for collected packages: google-play-scraper\n",
            "  Building wheel for google-play-scraper (setup.py) ... \u001b[?25l\u001b[?25hdone\n",
            "  Created wheel for google-play-scraper: filename=google_play_scraper-1.1.0-py3-none-any.whl size=24585 sha256=b30eee87fed6994da21bc768da2b5767cccd44fa4eaa0ad7c4e27989a8d42fed\n",
            "  Stored in directory: /root/.cache/pip/wheels/f4/fc/13/fc4c30a74f33bdd956248d2a0f022780fce59250a6a2301ad8\n",
            "Successfully built google-play-scraper\n",
            "Installing collected packages: google-play-scraper\n",
            "Successfully installed google-play-scraper-1.1.0\n"
          ]
        }
      ],
      "source": [
        "#1. Proses Scraping (untuk mengambil data)\n",
        "!pip install google-play-scraper"
      ]
    },
    {
      "cell_type": "code",
      "execution_count": 2,
      "metadata": {
        "id": "3FOrqqxCx5V7"
      },
      "outputs": [],
      "source": [
        "from google_play_scraper import app\n",
        "import pandas as pd\n",
        "import numpy as np\n",
        "import matplotlib.pyplot as plt\n",
        "import matplotlib as mpl"
      ]
    },
    {
      "cell_type": "code",
      "execution_count": 3,
      "metadata": {
        "id": "nuJMK-NTx-eP"
      },
      "outputs": [],
      "source": [
        "# scraping seluruh data\n",
        "from google_play_scraper import Sort, reviews \n",
        "\n",
        "result, continuation_token = reviews(\n",
        "    'com.posindonesia.giropos',\n",
        "    lang='id',\n",
        "    country='id',\n",
        "    sort = Sort.NEWEST,\n",
        "    count = 8000,\n",
        "    filter_score_with = None\n",
        ")\n",
        "\n"
      ]
    },
    {
      "cell_type": "code",
      "execution_count": 4,
      "metadata": {
        "colab": {
          "base_uri": "https://localhost:8080/",
          "height": 458
        },
        "id": "7Y9bREkSyCzJ",
        "outputId": "73315c40-5c05-4daa-e8c0-7bb4ee32a0e9"
      },
      "outputs": [
        {
          "output_type": "execute_result",
          "data": {
            "text/plain": [
              "                               reviewId         userName  \\\n",
              "0  9384fee9-2865-4be9-b645-be72f4650fb9  Rhedi R Hidayat   \n",
              "1  eeadb157-20e1-4951-a1b0-aaa486fa4751     Barry Techno   \n",
              "2  d66bef36-b22c-445d-a28c-cc2852beeed1    Joni Siswanto   \n",
              "3  f4dbe8dd-647f-43c4-aa4f-307d80c69af5    Yanti Suminar   \n",
              "4  41f2330a-2cab-42d0-9409-0fe29a84d5d7           Felx x   \n",
              "\n",
              "                                           userImage  \\\n",
              "0  https://play-lh.googleusercontent.com/a-/AOh14...   \n",
              "1  https://play-lh.googleusercontent.com/a-/AOh14...   \n",
              "2  https://play-lh.googleusercontent.com/a-/AOh14...   \n",
              "3  https://play-lh.googleusercontent.com/a/AATXAJ...   \n",
              "4  https://play-lh.googleusercontent.com/a/AATXAJ...   \n",
              "\n",
              "                                             content  score  thumbsUpCount  \\\n",
              "0                            Mantap Aplikasi Pos nya      5              0   \n",
              "1  Beli barang di aliexpress terus barang udah ny...      1              0   \n",
              "2  Tambah saldo lwt BRI sudah bisa... Mantapz... ...      5              2   \n",
              "3                                       Kurang soldo      1              0   \n",
              "4                                       Ribet sumpah      1              0   \n",
              "\n",
              "  reviewCreatedVersion                  at  \\\n",
              "0                2.5.2 2022-06-15 07:17:03   \n",
              "1                2.5.2 2022-06-15 05:16:10   \n",
              "2                2.5.2 2022-06-15 03:37:17   \n",
              "3                 None 2022-06-15 01:28:58   \n",
              "4                 None 2022-06-14 15:41:47   \n",
              "\n",
              "                                        replyContent           repliedAt  \n",
              "0                                               None                 NaT  \n",
              "1                                               None                 NaT  \n",
              "2  Hai Sobat Pospay, Kami mohon maaf atas ketidak... 2021-09-06 01:25:38  \n",
              "3                                               None                 NaT  \n",
              "4                                               None                 NaT  "
            ],
            "text/html": [
              "\n",
              "  <div id=\"df-adc5921d-6c41-43f8-9bfc-ae2b1b188270\">\n",
              "    <div class=\"colab-df-container\">\n",
              "      <div>\n",
              "<style scoped>\n",
              "    .dataframe tbody tr th:only-of-type {\n",
              "        vertical-align: middle;\n",
              "    }\n",
              "\n",
              "    .dataframe tbody tr th {\n",
              "        vertical-align: top;\n",
              "    }\n",
              "\n",
              "    .dataframe thead th {\n",
              "        text-align: right;\n",
              "    }\n",
              "</style>\n",
              "<table border=\"1\" class=\"dataframe\">\n",
              "  <thead>\n",
              "    <tr style=\"text-align: right;\">\n",
              "      <th></th>\n",
              "      <th>reviewId</th>\n",
              "      <th>userName</th>\n",
              "      <th>userImage</th>\n",
              "      <th>content</th>\n",
              "      <th>score</th>\n",
              "      <th>thumbsUpCount</th>\n",
              "      <th>reviewCreatedVersion</th>\n",
              "      <th>at</th>\n",
              "      <th>replyContent</th>\n",
              "      <th>repliedAt</th>\n",
              "    </tr>\n",
              "  </thead>\n",
              "  <tbody>\n",
              "    <tr>\n",
              "      <th>0</th>\n",
              "      <td>9384fee9-2865-4be9-b645-be72f4650fb9</td>\n",
              "      <td>Rhedi R Hidayat</td>\n",
              "      <td>https://play-lh.googleusercontent.com/a-/AOh14...</td>\n",
              "      <td>Mantap Aplikasi Pos nya</td>\n",
              "      <td>5</td>\n",
              "      <td>0</td>\n",
              "      <td>2.5.2</td>\n",
              "      <td>2022-06-15 07:17:03</td>\n",
              "      <td>None</td>\n",
              "      <td>NaT</td>\n",
              "    </tr>\n",
              "    <tr>\n",
              "      <th>1</th>\n",
              "      <td>eeadb157-20e1-4951-a1b0-aaa486fa4751</td>\n",
              "      <td>Barry Techno</td>\n",
              "      <td>https://play-lh.googleusercontent.com/a-/AOh14...</td>\n",
              "      <td>Beli barang di aliexpress terus barang udah ny...</td>\n",
              "      <td>1</td>\n",
              "      <td>0</td>\n",
              "      <td>2.5.2</td>\n",
              "      <td>2022-06-15 05:16:10</td>\n",
              "      <td>None</td>\n",
              "      <td>NaT</td>\n",
              "    </tr>\n",
              "    <tr>\n",
              "      <th>2</th>\n",
              "      <td>d66bef36-b22c-445d-a28c-cc2852beeed1</td>\n",
              "      <td>Joni Siswanto</td>\n",
              "      <td>https://play-lh.googleusercontent.com/a-/AOh14...</td>\n",
              "      <td>Tambah saldo lwt BRI sudah bisa... Mantapz... ...</td>\n",
              "      <td>5</td>\n",
              "      <td>2</td>\n",
              "      <td>2.5.2</td>\n",
              "      <td>2022-06-15 03:37:17</td>\n",
              "      <td>Hai Sobat Pospay, Kami mohon maaf atas ketidak...</td>\n",
              "      <td>2021-09-06 01:25:38</td>\n",
              "    </tr>\n",
              "    <tr>\n",
              "      <th>3</th>\n",
              "      <td>f4dbe8dd-647f-43c4-aa4f-307d80c69af5</td>\n",
              "      <td>Yanti Suminar</td>\n",
              "      <td>https://play-lh.googleusercontent.com/a/AATXAJ...</td>\n",
              "      <td>Kurang soldo</td>\n",
              "      <td>1</td>\n",
              "      <td>0</td>\n",
              "      <td>None</td>\n",
              "      <td>2022-06-15 01:28:58</td>\n",
              "      <td>None</td>\n",
              "      <td>NaT</td>\n",
              "    </tr>\n",
              "    <tr>\n",
              "      <th>4</th>\n",
              "      <td>41f2330a-2cab-42d0-9409-0fe29a84d5d7</td>\n",
              "      <td>Felx x</td>\n",
              "      <td>https://play-lh.googleusercontent.com/a/AATXAJ...</td>\n",
              "      <td>Ribet sumpah</td>\n",
              "      <td>1</td>\n",
              "      <td>0</td>\n",
              "      <td>None</td>\n",
              "      <td>2022-06-14 15:41:47</td>\n",
              "      <td>None</td>\n",
              "      <td>NaT</td>\n",
              "    </tr>\n",
              "  </tbody>\n",
              "</table>\n",
              "</div>\n",
              "      <button class=\"colab-df-convert\" onclick=\"convertToInteractive('df-adc5921d-6c41-43f8-9bfc-ae2b1b188270')\"\n",
              "              title=\"Convert this dataframe to an interactive table.\"\n",
              "              style=\"display:none;\">\n",
              "        \n",
              "  <svg xmlns=\"http://www.w3.org/2000/svg\" height=\"24px\"viewBox=\"0 0 24 24\"\n",
              "       width=\"24px\">\n",
              "    <path d=\"M0 0h24v24H0V0z\" fill=\"none\"/>\n",
              "    <path d=\"M18.56 5.44l.94 2.06.94-2.06 2.06-.94-2.06-.94-.94-2.06-.94 2.06-2.06.94zm-11 1L8.5 8.5l.94-2.06 2.06-.94-2.06-.94L8.5 2.5l-.94 2.06-2.06.94zm10 10l.94 2.06.94-2.06 2.06-.94-2.06-.94-.94-2.06-.94 2.06-2.06.94z\"/><path d=\"M17.41 7.96l-1.37-1.37c-.4-.4-.92-.59-1.43-.59-.52 0-1.04.2-1.43.59L10.3 9.45l-7.72 7.72c-.78.78-.78 2.05 0 2.83L4 21.41c.39.39.9.59 1.41.59.51 0 1.02-.2 1.41-.59l7.78-7.78 2.81-2.81c.8-.78.8-2.07 0-2.86zM5.41 20L4 18.59l7.72-7.72 1.47 1.35L5.41 20z\"/>\n",
              "  </svg>\n",
              "      </button>\n",
              "      \n",
              "  <style>\n",
              "    .colab-df-container {\n",
              "      display:flex;\n",
              "      flex-wrap:wrap;\n",
              "      gap: 12px;\n",
              "    }\n",
              "\n",
              "    .colab-df-convert {\n",
              "      background-color: #E8F0FE;\n",
              "      border: none;\n",
              "      border-radius: 50%;\n",
              "      cursor: pointer;\n",
              "      display: none;\n",
              "      fill: #1967D2;\n",
              "      height: 32px;\n",
              "      padding: 0 0 0 0;\n",
              "      width: 32px;\n",
              "    }\n",
              "\n",
              "    .colab-df-convert:hover {\n",
              "      background-color: #E2EBFA;\n",
              "      box-shadow: 0px 1px 2px rgba(60, 64, 67, 0.3), 0px 1px 3px 1px rgba(60, 64, 67, 0.15);\n",
              "      fill: #174EA6;\n",
              "    }\n",
              "\n",
              "    [theme=dark] .colab-df-convert {\n",
              "      background-color: #3B4455;\n",
              "      fill: #D2E3FC;\n",
              "    }\n",
              "\n",
              "    [theme=dark] .colab-df-convert:hover {\n",
              "      background-color: #434B5C;\n",
              "      box-shadow: 0px 1px 3px 1px rgba(0, 0, 0, 0.15);\n",
              "      filter: drop-shadow(0px 1px 2px rgba(0, 0, 0, 0.3));\n",
              "      fill: #FFFFFF;\n",
              "    }\n",
              "  </style>\n",
              "\n",
              "      <script>\n",
              "        const buttonEl =\n",
              "          document.querySelector('#df-adc5921d-6c41-43f8-9bfc-ae2b1b188270 button.colab-df-convert');\n",
              "        buttonEl.style.display =\n",
              "          google.colab.kernel.accessAllowed ? 'block' : 'none';\n",
              "\n",
              "        async function convertToInteractive(key) {\n",
              "          const element = document.querySelector('#df-adc5921d-6c41-43f8-9bfc-ae2b1b188270');\n",
              "          const dataTable =\n",
              "            await google.colab.kernel.invokeFunction('convertToInteractive',\n",
              "                                                     [key], {});\n",
              "          if (!dataTable) return;\n",
              "\n",
              "          const docLinkHtml = 'Like what you see? Visit the ' +\n",
              "            '<a target=\"_blank\" href=https://colab.research.google.com/notebooks/data_table.ipynb>data table notebook</a>'\n",
              "            + ' to learn more about interactive tables.';\n",
              "          element.innerHTML = '';\n",
              "          dataTable['output_type'] = 'display_data';\n",
              "          await google.colab.output.renderOutput(dataTable, element);\n",
              "          const docLink = document.createElement('div');\n",
              "          docLink.innerHTML = docLinkHtml;\n",
              "          element.appendChild(docLink);\n",
              "        }\n",
              "      </script>\n",
              "    </div>\n",
              "  </div>\n",
              "  "
            ]
          },
          "metadata": {},
          "execution_count": 4
        }
      ],
      "source": [
        "# membuat dataframe\n",
        "data = pd.DataFrame(np.array(result), columns=['review'])\n",
        "\n",
        "data = data.join(pd.DataFrame(data.pop('review').tolist()))\n",
        "\n",
        "data.head()"
      ]
    },
    {
      "cell_type": "code",
      "execution_count": 5,
      "metadata": {
        "id": "CYHOUgDIyHTp"
      },
      "outputs": [],
      "source": [
        "# mengambil data dengan interval waktu\n",
        "list = data.values.tolist()\n",
        "dari = '2021-09-01'\n",
        "sampai = '2022-06-01'\n",
        "username = []\n",
        "at = []\n",
        "content = []\n",
        "score = []\n",
        "\n",
        "for i in list:\n",
        "  date = i[7].strftime('%Y-%m-%d')\n",
        "  if date >= dari and date <= sampai:\n",
        "    username.append(i[1])\n",
        "    at.append(i[7])\n",
        "    content.append(i[3])\n",
        "    score.append(i[4])\n",
        "\n",
        "datapost = {'userName' : username, 'at' : at, 'content' : content, 'score' : score} \n",
        "data = pd.DataFrame(datapost)"
      ]
    },
    {
      "cell_type": "code",
      "execution_count": 6,
      "metadata": {
        "colab": {
          "base_uri": "https://localhost:8080/"
        },
        "id": "XRvvgRcrzbI0",
        "outputId": "e0bd7d0a-0871-44bf-b749-9005181bd627"
      },
      "outputs": [
        {
          "output_type": "execute_result",
          "data": {
            "text/plain": [
              "5021"
            ]
          },
          "metadata": {},
          "execution_count": 6
        }
      ],
      "source": [
        "len(data)"
      ]
    },
    {
      "cell_type": "code",
      "execution_count": null,
      "metadata": {
        "colab": {
          "base_uri": "https://localhost:8080/",
          "height": 206
        },
        "id": "qBYG-bOu0CFt",
        "outputId": "7c9175eb-a223-47e6-ca22-3ffc49a04ec7"
      },
      "outputs": [
        {
          "data": {
            "text/html": [
              "\n",
              "  <div id=\"df-00e6977d-b5a6-4c04-bbf0-bb6fda3c5693\">\n",
              "    <div class=\"colab-df-container\">\n",
              "      <div>\n",
              "<style scoped>\n",
              "    .dataframe tbody tr th:only-of-type {\n",
              "        vertical-align: middle;\n",
              "    }\n",
              "\n",
              "    .dataframe tbody tr th {\n",
              "        vertical-align: top;\n",
              "    }\n",
              "\n",
              "    .dataframe thead th {\n",
              "        text-align: right;\n",
              "    }\n",
              "</style>\n",
              "<table border=\"1\" class=\"dataframe\">\n",
              "  <thead>\n",
              "    <tr style=\"text-align: right;\">\n",
              "      <th></th>\n",
              "      <th>userName</th>\n",
              "      <th>at</th>\n",
              "      <th>content</th>\n",
              "      <th>score</th>\n",
              "    </tr>\n",
              "  </thead>\n",
              "  <tbody>\n",
              "    <tr>\n",
              "      <th>0</th>\n",
              "      <td>AriefSan</td>\n",
              "      <td>2022-06-01 13:51:39</td>\n",
              "      <td>Setiap buka login mulu, baru pertama makai mau...</td>\n",
              "      <td>1</td>\n",
              "    </tr>\n",
              "    <tr>\n",
              "      <th>1</th>\n",
              "      <td>Fitri Yani Hasibuan</td>\n",
              "      <td>2022-06-01 13:46:06</td>\n",
              "      <td>Biaya admin mahal, terus harus ada yg tinggal ...</td>\n",
              "      <td>2</td>\n",
              "    </tr>\n",
              "    <tr>\n",
              "      <th>2</th>\n",
              "      <td>Xyzet 111</td>\n",
              "      <td>2022-06-01 13:31:57</td>\n",
              "      <td>Aplikasinya sangat ribet</td>\n",
              "      <td>1</td>\n",
              "    </tr>\n",
              "    <tr>\n",
              "      <th>3</th>\n",
              "      <td>ahmad taufiq</td>\n",
              "      <td>2022-06-01 08:37:37</td>\n",
              "      <td>Aplikasi yang menguji kesabaran :(</td>\n",
              "      <td>1</td>\n",
              "    </tr>\n",
              "    <tr>\n",
              "      <th>4</th>\n",
              "      <td>I.B. Parwatha</td>\n",
              "      <td>2022-06-01 04:57:06</td>\n",
              "      <td>Kecewa</td>\n",
              "      <td>1</td>\n",
              "    </tr>\n",
              "  </tbody>\n",
              "</table>\n",
              "</div>\n",
              "      <button class=\"colab-df-convert\" onclick=\"convertToInteractive('df-00e6977d-b5a6-4c04-bbf0-bb6fda3c5693')\"\n",
              "              title=\"Convert this dataframe to an interactive table.\"\n",
              "              style=\"display:none;\">\n",
              "        \n",
              "  <svg xmlns=\"http://www.w3.org/2000/svg\" height=\"24px\"viewBox=\"0 0 24 24\"\n",
              "       width=\"24px\">\n",
              "    <path d=\"M0 0h24v24H0V0z\" fill=\"none\"/>\n",
              "    <path d=\"M18.56 5.44l.94 2.06.94-2.06 2.06-.94-2.06-.94-.94-2.06-.94 2.06-2.06.94zm-11 1L8.5 8.5l.94-2.06 2.06-.94-2.06-.94L8.5 2.5l-.94 2.06-2.06.94zm10 10l.94 2.06.94-2.06 2.06-.94-2.06-.94-.94-2.06-.94 2.06-2.06.94z\"/><path d=\"M17.41 7.96l-1.37-1.37c-.4-.4-.92-.59-1.43-.59-.52 0-1.04.2-1.43.59L10.3 9.45l-7.72 7.72c-.78.78-.78 2.05 0 2.83L4 21.41c.39.39.9.59 1.41.59.51 0 1.02-.2 1.41-.59l7.78-7.78 2.81-2.81c.8-.78.8-2.07 0-2.86zM5.41 20L4 18.59l7.72-7.72 1.47 1.35L5.41 20z\"/>\n",
              "  </svg>\n",
              "      </button>\n",
              "      \n",
              "  <style>\n",
              "    .colab-df-container {\n",
              "      display:flex;\n",
              "      flex-wrap:wrap;\n",
              "      gap: 12px;\n",
              "    }\n",
              "\n",
              "    .colab-df-convert {\n",
              "      background-color: #E8F0FE;\n",
              "      border: none;\n",
              "      border-radius: 50%;\n",
              "      cursor: pointer;\n",
              "      display: none;\n",
              "      fill: #1967D2;\n",
              "      height: 32px;\n",
              "      padding: 0 0 0 0;\n",
              "      width: 32px;\n",
              "    }\n",
              "\n",
              "    .colab-df-convert:hover {\n",
              "      background-color: #E2EBFA;\n",
              "      box-shadow: 0px 1px 2px rgba(60, 64, 67, 0.3), 0px 1px 3px 1px rgba(60, 64, 67, 0.15);\n",
              "      fill: #174EA6;\n",
              "    }\n",
              "\n",
              "    [theme=dark] .colab-df-convert {\n",
              "      background-color: #3B4455;\n",
              "      fill: #D2E3FC;\n",
              "    }\n",
              "\n",
              "    [theme=dark] .colab-df-convert:hover {\n",
              "      background-color: #434B5C;\n",
              "      box-shadow: 0px 1px 3px 1px rgba(0, 0, 0, 0.15);\n",
              "      filter: drop-shadow(0px 1px 2px rgba(0, 0, 0, 0.3));\n",
              "      fill: #FFFFFF;\n",
              "    }\n",
              "  </style>\n",
              "\n",
              "      <script>\n",
              "        const buttonEl =\n",
              "          document.querySelector('#df-00e6977d-b5a6-4c04-bbf0-bb6fda3c5693 button.colab-df-convert');\n",
              "        buttonEl.style.display =\n",
              "          google.colab.kernel.accessAllowed ? 'block' : 'none';\n",
              "\n",
              "        async function convertToInteractive(key) {\n",
              "          const element = document.querySelector('#df-00e6977d-b5a6-4c04-bbf0-bb6fda3c5693');\n",
              "          const dataTable =\n",
              "            await google.colab.kernel.invokeFunction('convertToInteractive',\n",
              "                                                     [key], {});\n",
              "          if (!dataTable) return;\n",
              "\n",
              "          const docLinkHtml = 'Like what you see? Visit the ' +\n",
              "            '<a target=\"_blank\" href=https://colab.research.google.com/notebooks/data_table.ipynb>data table notebook</a>'\n",
              "            + ' to learn more about interactive tables.';\n",
              "          element.innerHTML = '';\n",
              "          dataTable['output_type'] = 'display_data';\n",
              "          await google.colab.output.renderOutput(dataTable, element);\n",
              "          const docLink = document.createElement('div');\n",
              "          docLink.innerHTML = docLinkHtml;\n",
              "          element.appendChild(docLink);\n",
              "        }\n",
              "      </script>\n",
              "    </div>\n",
              "  </div>\n",
              "  "
            ],
            "text/plain": [
              "              userName                  at  \\\n",
              "0             AriefSan 2022-06-01 13:51:39   \n",
              "1  Fitri Yani Hasibuan 2022-06-01 13:46:06   \n",
              "2            Xyzet 111 2022-06-01 13:31:57   \n",
              "3         ahmad taufiq 2022-06-01 08:37:37   \n",
              "4        I.B. Parwatha 2022-06-01 04:57:06   \n",
              "\n",
              "                                             content  score  \n",
              "0  Setiap buka login mulu, baru pertama makai mau...      1  \n",
              "1  Biaya admin mahal, terus harus ada yg tinggal ...      2  \n",
              "2                           Aplikasinya sangat ribet      1  \n",
              "3                 Aplikasi yang menguji kesabaran :(      1  \n",
              "4                                             Kecewa      1  "
            ]
          },
          "execution_count": 16,
          "metadata": {},
          "output_type": "execute_result"
        }
      ],
      "source": [
        "data[['userName','at','content','score']].head()"
      ]
    },
    {
      "cell_type": "code",
      "execution_count": null,
      "metadata": {
        "colab": {
          "base_uri": "https://localhost:8080/",
          "height": 206
        },
        "id": "qCsXv6DV0C3-",
        "outputId": "7f6fce98-a021-4e38-a624-71e6aeace12f"
      },
      "outputs": [
        {
          "data": {
            "text/html": [
              "\n",
              "  <div id=\"df-b34cd0eb-4fbf-44e4-a7e6-6b60c013a58a\">\n",
              "    <div class=\"colab-df-container\">\n",
              "      <div>\n",
              "<style scoped>\n",
              "    .dataframe tbody tr th:only-of-type {\n",
              "        vertical-align: middle;\n",
              "    }\n",
              "\n",
              "    .dataframe tbody tr th {\n",
              "        vertical-align: top;\n",
              "    }\n",
              "\n",
              "    .dataframe thead th {\n",
              "        text-align: right;\n",
              "    }\n",
              "</style>\n",
              "<table border=\"1\" class=\"dataframe\">\n",
              "  <thead>\n",
              "    <tr style=\"text-align: right;\">\n",
              "      <th></th>\n",
              "      <th>userName</th>\n",
              "      <th>at</th>\n",
              "      <th>content</th>\n",
              "      <th>score</th>\n",
              "    </tr>\n",
              "  </thead>\n",
              "  <tbody>\n",
              "    <tr>\n",
              "      <th>5018</th>\n",
              "      <td>alip susanto</td>\n",
              "      <td>2021-09-01 06:15:35</td>\n",
              "      <td>Saya lebih mudah bertransaksi, tks Pos Indones...</td>\n",
              "      <td>5</td>\n",
              "    </tr>\n",
              "    <tr>\n",
              "      <th>5019</th>\n",
              "      <td>Iskandar Syafaruddin</td>\n",
              "      <td>2021-09-01 05:43:55</td>\n",
              "      <td>Bayar apa pun tidak perlu keluar rumah</td>\n",
              "      <td>5</td>\n",
              "    </tr>\n",
              "    <tr>\n",
              "      <th>5020</th>\n",
              "      <td>Sumardi Samsudin</td>\n",
              "      <td>2021-09-01 04:29:43</td>\n",
              "      <td>Layanan aplikaso ini sangat memudahkan costume...</td>\n",
              "      <td>5</td>\n",
              "    </tr>\n",
              "    <tr>\n",
              "      <th>5021</th>\n",
              "      <td>ok batak</td>\n",
              "      <td>2021-09-01 04:09:47</td>\n",
              "      <td>Serba bisa ... Bisa dan mudah...</td>\n",
              "      <td>5</td>\n",
              "    </tr>\n",
              "    <tr>\n",
              "      <th>5022</th>\n",
              "      <td>noviliagiyai 023</td>\n",
              "      <td>2021-09-01 02:49:56</td>\n",
              "      <td>Sangat membantu☺</td>\n",
              "      <td>5</td>\n",
              "    </tr>\n",
              "  </tbody>\n",
              "</table>\n",
              "</div>\n",
              "      <button class=\"colab-df-convert\" onclick=\"convertToInteractive('df-b34cd0eb-4fbf-44e4-a7e6-6b60c013a58a')\"\n",
              "              title=\"Convert this dataframe to an interactive table.\"\n",
              "              style=\"display:none;\">\n",
              "        \n",
              "  <svg xmlns=\"http://www.w3.org/2000/svg\" height=\"24px\"viewBox=\"0 0 24 24\"\n",
              "       width=\"24px\">\n",
              "    <path d=\"M0 0h24v24H0V0z\" fill=\"none\"/>\n",
              "    <path d=\"M18.56 5.44l.94 2.06.94-2.06 2.06-.94-2.06-.94-.94-2.06-.94 2.06-2.06.94zm-11 1L8.5 8.5l.94-2.06 2.06-.94-2.06-.94L8.5 2.5l-.94 2.06-2.06.94zm10 10l.94 2.06.94-2.06 2.06-.94-2.06-.94-.94-2.06-.94 2.06-2.06.94z\"/><path d=\"M17.41 7.96l-1.37-1.37c-.4-.4-.92-.59-1.43-.59-.52 0-1.04.2-1.43.59L10.3 9.45l-7.72 7.72c-.78.78-.78 2.05 0 2.83L4 21.41c.39.39.9.59 1.41.59.51 0 1.02-.2 1.41-.59l7.78-7.78 2.81-2.81c.8-.78.8-2.07 0-2.86zM5.41 20L4 18.59l7.72-7.72 1.47 1.35L5.41 20z\"/>\n",
              "  </svg>\n",
              "      </button>\n",
              "      \n",
              "  <style>\n",
              "    .colab-df-container {\n",
              "      display:flex;\n",
              "      flex-wrap:wrap;\n",
              "      gap: 12px;\n",
              "    }\n",
              "\n",
              "    .colab-df-convert {\n",
              "      background-color: #E8F0FE;\n",
              "      border: none;\n",
              "      border-radius: 50%;\n",
              "      cursor: pointer;\n",
              "      display: none;\n",
              "      fill: #1967D2;\n",
              "      height: 32px;\n",
              "      padding: 0 0 0 0;\n",
              "      width: 32px;\n",
              "    }\n",
              "\n",
              "    .colab-df-convert:hover {\n",
              "      background-color: #E2EBFA;\n",
              "      box-shadow: 0px 1px 2px rgba(60, 64, 67, 0.3), 0px 1px 3px 1px rgba(60, 64, 67, 0.15);\n",
              "      fill: #174EA6;\n",
              "    }\n",
              "\n",
              "    [theme=dark] .colab-df-convert {\n",
              "      background-color: #3B4455;\n",
              "      fill: #D2E3FC;\n",
              "    }\n",
              "\n",
              "    [theme=dark] .colab-df-convert:hover {\n",
              "      background-color: #434B5C;\n",
              "      box-shadow: 0px 1px 3px 1px rgba(0, 0, 0, 0.15);\n",
              "      filter: drop-shadow(0px 1px 2px rgba(0, 0, 0, 0.3));\n",
              "      fill: #FFFFFF;\n",
              "    }\n",
              "  </style>\n",
              "\n",
              "      <script>\n",
              "        const buttonEl =\n",
              "          document.querySelector('#df-b34cd0eb-4fbf-44e4-a7e6-6b60c013a58a button.colab-df-convert');\n",
              "        buttonEl.style.display =\n",
              "          google.colab.kernel.accessAllowed ? 'block' : 'none';\n",
              "\n",
              "        async function convertToInteractive(key) {\n",
              "          const element = document.querySelector('#df-b34cd0eb-4fbf-44e4-a7e6-6b60c013a58a');\n",
              "          const dataTable =\n",
              "            await google.colab.kernel.invokeFunction('convertToInteractive',\n",
              "                                                     [key], {});\n",
              "          if (!dataTable) return;\n",
              "\n",
              "          const docLinkHtml = 'Like what you see? Visit the ' +\n",
              "            '<a target=\"_blank\" href=https://colab.research.google.com/notebooks/data_table.ipynb>data table notebook</a>'\n",
              "            + ' to learn more about interactive tables.';\n",
              "          element.innerHTML = '';\n",
              "          dataTable['output_type'] = 'display_data';\n",
              "          await google.colab.output.renderOutput(dataTable, element);\n",
              "          const docLink = document.createElement('div');\n",
              "          docLink.innerHTML = docLinkHtml;\n",
              "          element.appendChild(docLink);\n",
              "        }\n",
              "      </script>\n",
              "    </div>\n",
              "  </div>\n",
              "  "
            ],
            "text/plain": [
              "                  userName                  at  \\\n",
              "5018          alip susanto 2021-09-01 06:15:35   \n",
              "5019  Iskandar Syafaruddin 2021-09-01 05:43:55   \n",
              "5020      Sumardi Samsudin 2021-09-01 04:29:43   \n",
              "5021              ok batak 2021-09-01 04:09:47   \n",
              "5022      noviliagiyai 023 2021-09-01 02:49:56   \n",
              "\n",
              "                                                content  score  \n",
              "5018  Saya lebih mudah bertransaksi, tks Pos Indones...      5  \n",
              "5019             Bayar apa pun tidak perlu keluar rumah      5  \n",
              "5020  Layanan aplikaso ini sangat memudahkan costume...      5  \n",
              "5021                   Serba bisa ... Bisa dan mudah...      5  \n",
              "5022                                   Sangat membantu☺      5  "
            ]
          },
          "execution_count": 17,
          "metadata": {},
          "output_type": "execute_result"
        }
      ],
      "source": [
        "data.tail()"
      ]
    },
    {
      "cell_type": "code",
      "execution_count": null,
      "metadata": {
        "colab": {
          "base_uri": "https://localhost:8080/"
        },
        "id": "VqZvDk1O0Fvg",
        "outputId": "baafbf67-9520-4a9a-dea7-461e179cc002"
      },
      "outputs": [
        {
          "data": {
            "text/plain": [
              "userName    0\n",
              "at          0\n",
              "content     0\n",
              "score       0\n",
              "dtype: int64"
            ]
          },
          "execution_count": 18,
          "metadata": {},
          "output_type": "execute_result"
        }
      ],
      "source": [
        "data.isnull().sum()"
      ]
    },
    {
      "cell_type": "code",
      "execution_count": null,
      "metadata": {
        "id": "189g1yr-0Rvb"
      },
      "outputs": [],
      "source": [
        "data.to_csv('data scraping pospay.csv', index=False)"
      ]
    },
    {
      "cell_type": "markdown",
      "metadata": {
        "id": "x-iJ53ih2d05"
      },
      "source": [
        "#2. Text Processing"
      ]
    },
    {
      "cell_type": "code",
      "execution_count": null,
      "metadata": {
        "id": "4igmeRn126GG"
      },
      "outputs": [],
      "source": [
        "#2. Proses Text Preprocessing (untuk membersihkan data)\n",
        "# Tahapan Case Folding (untuk mengubah semua huruf pada data menjadi huruf kecil semua)\n",
        "\n",
        "import pandas as pd\n",
        "import string\n",
        "\n",
        "df = pd.read_csv('data scraping pospay.csv')\n",
        "content = df['content']\n",
        "case_folding = []\n",
        "for data in content:\n",
        "  data = data.lower()\n",
        "  case_folding.append(data)\n",
        "\n",
        "df['case_folding'] = case_folding\n",
        "df.head()"
      ]
    },
    {
      "cell_type": "code",
      "execution_count": null,
      "metadata": {
        "id": "4QZc4CCs2-WN"
      },
      "outputs": [],
      "source": [
        "# Case Folding: Lowercase\n",
        "df['case_folding'] = df['case_folding'].str.lower()\n",
        "\n",
        "# Remove Punctuation: Menghapus tanda baca\n",
        "punctuation = string.punctuation\n",
        "def remove_punctuation(text):\n",
        "    return text.translate(str.maketrans('', '', punctuation))\n",
        "\n",
        "df['case_folding'] = df['case_folding'].apply(lambda text: remove_punctuation(text))\n",
        "\n",
        "# Non Alphabet Removal: Remove number and <?>\n",
        "df['case_folding'] = df['case_folding'].str.replace(r'[^a-zA-Z ]\\s?',r'', regex=True)\n",
        "df.head()"
      ]
    },
    {
      "cell_type": "code",
      "execution_count": null,
      "metadata": {
        "id": "bhj-uVxn3CRj"
      },
      "outputs": [],
      "source": [
        "# Cleansing Data\n",
        "import string, re\n",
        "\n",
        "def Cleansing(df):\n",
        "  #lower text\n",
        "  df = df.lower()\n",
        "  \n",
        "  #hapus punctuation\n",
        "  remove = string.punctuation\n",
        "  translator = str.maketrans(remove,' '*len(remove))\n",
        "  df = df.translate(translator)\n",
        "\n",
        "  #remove ASCII dan unicode\n",
        "  df = df.encode('ascii','ignore').decode('utf-8')\n",
        "  df = re.sub(r'[^\\x00-\\x7f]', r'', df)\n",
        "\n",
        "  #remove newline\n",
        "  df = df.replace('\\n',' ')\n",
        "  return df\n",
        "\n",
        "df['case_folding'] = df['case_folding'].apply(Cleansing)\n",
        "\n",
        "df.drop_duplicates(keep=False,inplace=True)"
      ]
    },
    {
      "cell_type": "code",
      "execution_count": null,
      "metadata": {
        "id": "v0zfd1nL3Hyc"
      },
      "outputs": [],
      "source": [
        "df.to_csv('data.csv')"
      ]
    },
    {
      "cell_type": "code",
      "execution_count": null,
      "metadata": {
        "id": "Adl9LPJe3Lra"
      },
      "outputs": [],
      "source": [
        "import nltk\n",
        "nltk.download('punkt')\n",
        "nltk.download('stopwords')\n",
        "nltk.download('wordnet')"
      ]
    },
    {
      "cell_type": "code",
      "execution_count": null,
      "metadata": {
        "id": "HlBt20Nh3QIH"
      },
      "outputs": [],
      "source": [
        "import ast\n",
        "from nltk.tokenize import word_tokenize\n",
        "\n",
        "slang = open(\"combined_slang_words.txt\", \"r\")\n",
        "data = slang.read()\n",
        "slang_words = ast.literal_eval(data)\n",
        "slang.close()\n",
        "\n",
        "def convert_word(df):\n",
        "  word_tokens = word_tokenize(df)\n",
        "  for w in word_tokens:\n",
        "    if w in slang_words.keys():\n",
        "      word_tokens[word_tokens.index(w)]= slang_words[w]\n",
        "\n",
        "  #filter using NLTK library append it to a string\n",
        "  filtered_df = [w for w in word_tokens]\n",
        "  filtered_df = []\n",
        "\n",
        "  #Looping throught conditions\n",
        "  for w in word_tokens:\n",
        "    filtered_df.append(w.lower())\n",
        "  return ' '.join(filtered_df)\n",
        "\n",
        "convert_word = df['case_folding'].apply(lambda x: convert_word(x))\n",
        "df['convert_word'] = convert_word"
      ]
    },
    {
      "cell_type": "code",
      "execution_count": null,
      "metadata": {
        "id": "8mYKQZox3Ysm"
      },
      "outputs": [],
      "source": [
        "df"
      ]
    },
    {
      "cell_type": "code",
      "execution_count": null,
      "metadata": {
        "id": "bfoo46fB3dDF"
      },
      "outputs": [],
      "source": [
        "# Stopword Removal\n",
        "\n",
        "stopword = open(\"stopword.txt\", \"r\")\n",
        "data = stopword.read()\n",
        "stop_words = data.split(\"\\n\")\n",
        "stopword.close()\n",
        "\n",
        "def stopword_remove(df):\n",
        "  word_tokens = word_tokenize(df)\n",
        "\n",
        "  #filter using NLTK library it to a string\n",
        "  filtered_df = [w for w in word_tokens if not w in stop_words]\n",
        "  filtered_df = []\n",
        "\n",
        "  #Looping through conditions\n",
        "  for w in word_tokens:\n",
        "    #check tokens against stop words, emoticons and punctuations\n",
        "    if w not in stop_words and w not in string.punctuation:\n",
        "      filtered_df.append(w.lower())\n",
        "  return' '.join(filtered_df)\n",
        "stopword_remove = df['convert_word'].apply(lambda x: stopword_remove(x))\n",
        "df['stopword_remove'] = stopword_remove"
      ]
    },
    {
      "cell_type": "code",
      "execution_count": null,
      "metadata": {
        "id": "yPqZ8XC73jT9"
      },
      "outputs": [],
      "source": [
        "df"
      ]
    },
    {
      "cell_type": "code",
      "execution_count": null,
      "metadata": {
        "id": "yjyXFxei3npl"
      },
      "outputs": [],
      "source": [
        "!pip install Sastrawi"
      ]
    },
    {
      "cell_type": "code",
      "execution_count": null,
      "metadata": {
        "id": "1qMexhPl3xiZ"
      },
      "outputs": [],
      "source": [
        "#stemming (mengubah susunan kata menjadi bentuk kata dasar)\n",
        "from Sastrawi.Stemmer.StemmerFactory import  StemmerFactory\n",
        "\n",
        "factory = StemmerFactory()\n",
        "stemmer = factory.create_stemmer()\n",
        "\n",
        "def stem(df):\n",
        "  word_tokens = word_tokenize(df)\n",
        "\n",
        "  #filter using NLTK library append it to a string\n",
        "  filtered_df = []\n",
        "\n",
        "  #Looping through conditions\n",
        "  for w in word_tokens:\n",
        "    kata_dasar = stemmer.stem(w)\n",
        "    filtered_df.append(kata_dasar)\n",
        "#   return ' '.join(filtered_df)\n",
        "  return filtered_df\n",
        "\n",
        "stemming = df['stopword_remove'].apply(lambda x: stem(x))\n",
        "df['stemming'] = stemming\n",
        "df"
      ]
    },
    {
      "cell_type": "code",
      "execution_count": null,
      "metadata": {
        "id": "wrikW9-H339T"
      },
      "outputs": [],
      "source": [
        "#tokenize(split teks to word)\n",
        "\n",
        "token = []\n",
        "\n",
        "for w in df.stemming:\n",
        "    z = ' '.join(w)\n",
        "    data_token = word_tokenize(z)\n",
        "    token.append(data_token)\n",
        "\n",
        "df['tokenizing'] = token"
      ]
    },
    {
      "cell_type": "code",
      "execution_count": null,
      "metadata": {
        "id": "_Nm8pmt938Lr"
      },
      "outputs": [],
      "source": [
        "df.to_csv(\"Data setelah preprocessing.csv\", index = False)"
      ]
    },
    {
      "cell_type": "code",
      "execution_count": null,
      "metadata": {
        "id": "6u3jd3GT3_Zi"
      },
      "outputs": [],
      "source": [
        "data_pospay = pd.read_csv(\"Data setelah preprocessing.csv\")\n",
        "data_pospay.head()"
      ]
    },
    {
      "cell_type": "code",
      "execution_count": null,
      "metadata": {
        "id": "mjRBXCkG4AWB"
      },
      "outputs": [],
      "source": [
        "df = pd.DataFrame(df)\n",
        "df['stemming'] = df['stemming'].apply(str)"
      ]
    },
    {
      "cell_type": "code",
      "execution_count": null,
      "metadata": {
        "id": "KPPQS-Zu4GeN"
      },
      "outputs": [],
      "source": [
        "import ast\n",
        "\n",
        "def join_text_list(texts):\n",
        "    texts = ast.literal_eval(texts)\n",
        "    return ' '.join([text for text in texts])\n",
        "df[\"data_join\"] = df[\"stemming\"].apply(join_text_list)"
      ]
    },
    {
      "cell_type": "code",
      "execution_count": null,
      "metadata": {
        "id": "P6t2e9h64SBN"
      },
      "outputs": [],
      "source": [
        "df"
      ]
    }
  ],
  "metadata": {
    "colab": {
      "collapsed_sections": [],
      "name": "Bismillah I2 dan TA.ipynb",
      "provenance": [],
      "authorship_tag": "ABX9TyP9AXoXURj/KJ33soUn4sPH",
      "include_colab_link": true
    },
    "kernelspec": {
      "display_name": "Python 3",
      "name": "python3"
    },
    "language_info": {
      "name": "python"
    }
  },
  "nbformat": 4,
  "nbformat_minor": 0
}